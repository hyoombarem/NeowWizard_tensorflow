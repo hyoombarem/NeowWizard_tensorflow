{
 "cells": [
  {
   "cell_type": "markdown",
   "id": "9f1f7a35",
   "metadata": {},
   "source": [
    "### CNN 도입부\n",
    "\n",
    "- 컨볼루션의 정의\n",
    "    * 시간의 흐름에 따라 데이터 g(x)가 이동하면서, 입력데이터 f(x)를 평균적으로 얼마나 변화 시키는지 나타내는 것\n",
    "    * 시간의 흐름에 따라 움직이는 데이터 g(x)에 의해서, 입력 데이터 f(x)가 평균적으로 얼마나 변하는지 나타내는 것"
   ]
  },
  {
   "cell_type": "code",
   "execution_count": null,
   "id": "cb316368",
   "metadata": {},
   "outputs": [],
   "source": []
  }
 ],
 "metadata": {
  "kernelspec": {
   "display_name": "Python 3",
   "language": "python",
   "name": "python3"
  },
  "language_info": {
   "codemirror_mode": {
    "name": "ipython",
    "version": 3
   },
   "file_extension": ".py",
   "mimetype": "text/x-python",
   "name": "python",
   "nbconvert_exporter": "python",
   "pygments_lexer": "ipython3",
   "version": "3.8.8"
  }
 },
 "nbformat": 4,
 "nbformat_minor": 5
}
