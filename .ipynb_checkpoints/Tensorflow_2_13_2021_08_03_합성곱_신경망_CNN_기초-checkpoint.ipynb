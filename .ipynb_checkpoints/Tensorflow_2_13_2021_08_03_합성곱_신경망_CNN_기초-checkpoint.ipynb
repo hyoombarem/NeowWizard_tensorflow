{
 "cells": [
  {
   "cell_type": "markdown",
   "id": "d10724a2",
   "metadata": {},
   "source": [
    "### CNN 기초\n",
    "- 일반적인 신경망과 CNN 비교\n",
    "- 일반 신경망의 은닉층 대신, 컨볼루션 층이 들어가 있고 후에 완전연결층, 일반 신경망 등이 포괄되어 있다\n",
    "- conv : 가중치의 집합체를 필터를 통하여 feature를 추출\n",
    "- pooling : 입력 정보를 최대값, 최소값, 평균 등으로 연산을 줄임\n",
    "- padding : 입력 데이터 주변을 특정 값으로 채우는 행위, 컨볼룻션 연산을 수행하면 데이터 크기가 작아지게 된다. 이를 방지하기 위함\n",
    "\n"
   ]
  },
  {
   "cell_type": "code",
   "execution_count": null,
   "id": "bcc93822",
   "metadata": {},
   "outputs": [],
   "source": []
  }
 ],
 "metadata": {
  "kernelspec": {
   "display_name": "Python 3",
   "language": "python",
   "name": "python3"
  },
  "language_info": {
   "codemirror_mode": {
    "name": "ipython",
    "version": 3
   },
   "file_extension": ".py",
   "mimetype": "text/x-python",
   "name": "python",
   "nbconvert_exporter": "python",
   "pygments_lexer": "ipython3",
   "version": "3.8.8"
  }
 },
 "nbformat": 4,
 "nbformat_minor": 5
}
