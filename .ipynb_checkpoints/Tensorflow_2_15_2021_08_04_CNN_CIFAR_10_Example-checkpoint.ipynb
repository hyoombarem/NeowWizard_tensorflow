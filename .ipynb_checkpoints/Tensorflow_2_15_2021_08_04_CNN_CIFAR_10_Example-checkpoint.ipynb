{
 "cells": [
  {
   "cell_type": "markdown",
   "id": "1e92b127",
   "metadata": {},
   "source": [
    "### CNN 예제\n",
    "- 사용할 예제 데이터 셋은 CIFAR 10\n",
    "- 10개의 정답으로 분류된 학습이미지다\n",
    "- airplain, automobile, bird 등\n",
    "- 32 X 32 칼라 이미지"
   ]
  },
  {
   "cell_type": "code",
   "execution_count": 1,
   "id": "3c954f74",
   "metadata": {},
   "outputs": [],
   "source": [
    "# 라이브러리 호출\n",
    "import numpy as np\n",
    "import tensorflow as tf\n",
    "from tensorflow.keras.datasets import cifar10\n",
    "from tensorflow.keras.models import Sequential\n",
    "from tensorflow.keras.layers import Conv2D, MaxPool2D, Flatten, Dense, Dropout\n"
   ]
  },
  {
   "cell_type": "code",
   "execution_count": 47,
   "id": "c813bf5f",
   "metadata": {},
   "outputs": [],
   "source": [
    "# 데이터 불러오기\n",
    "(x_train, y_train), (x_test, y_test) = cifar10.load_data()"
   ]
  },
  {
   "cell_type": "code",
   "execution_count": 48,
   "id": "28775b60",
   "metadata": {},
   "outputs": [
    {
     "name": "stdout",
     "output_type": "stream",
     "text": [
      "변경하기 전 x_train 데이터 형태 = (50000, 32, 32, 3)\n",
      "x_test의 데이터 형태 = (10000, 32, 32, 3)\n",
      "변경 후 x_train 데이터 형태 = (50000, 32, 32, 3) \n",
      " 음? 차이가 없다?\n",
      "(50000, 1) (10000, 1)\n"
     ]
    }
   ],
   "source": [
    "# 데이터 확인\n",
    "\n",
    "print(\"변경하기 전 x_train 데이터 형태 =\", x_train.shape)\n",
    "print(\"x_test의 데이터 형태 =\", x_test.shape)\n",
    "x_train = x_train.reshape(-1, 32, 32, 3)\n",
    "x_test = x_test.reshape(-1, 32, 32, 3) # 데이터 구조를 (높이, 너비, 채널)로 변환\n",
    "\n",
    "print(\"변경 후 x_train 데이터 형태 =\", x_train.shape, \"\\n 음? 차이가 없다?\")\n",
    "print(y_train.shape, y_test.shape)\n"
   ]
  },
  {
   "cell_type": "code",
   "execution_count": 49,
   "id": "4ef9c5cb",
   "metadata": {},
   "outputs": [],
   "source": [
    "# 데이터 정규화\n",
    "x_train = x_train.astype(np.float32) / 255.0\n",
    "x_test = x_test.astype(np.float32) / 255.0\n",
    "# 반드시 한번만 실행하자. 안그러면 쭉쭉 줄어든다"
   ]
  },
  {
   "cell_type": "code",
   "execution_count": 50,
   "id": "b1ceeea0",
   "metadata": {},
   "outputs": [],
   "source": [
    "# 모델 구축\n",
    "\n",
    "cnn = Sequential()\n",
    "\n",
    "cnn.add(Conv2D(input_shape = (32, 32, 3), \n",
    "               kernel_size = (3, 3), \n",
    "               filters = 32, activation = 'relu'))\n",
    "cnn.add(Conv2D(kernel_size = (3, 3), \n",
    "               filters = 64, activation = 'relu'))\n",
    "cnn.add(MaxPool2D(pool_size = (2, 2)))\n",
    "cnn.add(Dropout(0.25))\n",
    "cnn.add(Flatten())\n",
    "\n",
    "cnn.add(Dense(128, activation = 'relu'))\n",
    "cnn.add(Dropout(0.5))\n",
    "cnn.add(Dense(10, activation = 'softmax'))"
   ]
  },
  {
   "cell_type": "code",
   "execution_count": 51,
   "id": "eb69b036",
   "metadata": {},
   "outputs": [],
   "source": [
    "# 모델 컴파일\n",
    "\n",
    "cnn.compile(loss = \"sparse_categorical_crossentropy\", \n",
    "            optimizer = tf.keras.optimizers.Adam(),\n",
    "            metrics = [\"accuracy\"])\n"
   ]
  },
  {
   "cell_type": "code",
   "execution_count": 52,
   "id": "c6acb30c",
   "metadata": {},
   "outputs": [
    {
     "name": "stdout",
     "output_type": "stream",
     "text": [
      "Epoch 1/30\n",
      "391/391 [==============================] - 74s 189ms/step - loss: 1.7013 - accuracy: 0.3783 - val_loss: 1.3418 - val_accuracy: 0.5216\n",
      "Epoch 2/30\n",
      "391/391 [==============================] - 70s 179ms/step - loss: 1.3855 - accuracy: 0.5036 - val_loss: 1.1826 - val_accuracy: 0.5817\n",
      "Epoch 3/30\n",
      "391/391 [==============================] - 68s 173ms/step - loss: 1.2467 - accuracy: 0.5556 - val_loss: 1.0701 - val_accuracy: 0.6254\n",
      "Epoch 4/30\n",
      "391/391 [==============================] - 71s 181ms/step - loss: 1.1556 - accuracy: 0.5889 - val_loss: 0.9998 - val_accuracy: 0.6512\n",
      "Epoch 5/30\n",
      "391/391 [==============================] - 69s 176ms/step - loss: 1.0913 - accuracy: 0.6136 - val_loss: 0.9751 - val_accuracy: 0.6579\n",
      "Epoch 6/30\n",
      "391/391 [==============================] - 69s 176ms/step - loss: 1.0388 - accuracy: 0.6336 - val_loss: 0.9575 - val_accuracy: 0.6639\n",
      "Epoch 7/30\n",
      "391/391 [==============================] - 68s 175ms/step - loss: 0.9997 - accuracy: 0.6455 - val_loss: 0.9243 - val_accuracy: 0.6773\n",
      "Epoch 8/30\n",
      "391/391 [==============================] - 70s 178ms/step - loss: 0.9621 - accuracy: 0.6563 - val_loss: 0.9263 - val_accuracy: 0.6779\n",
      "Epoch 9/30\n",
      "391/391 [==============================] - 71s 182ms/step - loss: 0.9284 - accuracy: 0.6699 - val_loss: 0.8871 - val_accuracy: 0.6907\n",
      "Epoch 10/30\n",
      "391/391 [==============================] - 76s 194ms/step - loss: 0.9022 - accuracy: 0.6757 - val_loss: 0.8897 - val_accuracy: 0.6921\n",
      "Epoch 11/30\n",
      "391/391 [==============================] - 76s 193ms/step - loss: 0.8726 - accuracy: 0.6870 - val_loss: 0.8781 - val_accuracy: 0.6879\n",
      "Epoch 12/30\n",
      "391/391 [==============================] - 77s 197ms/step - loss: 0.8524 - accuracy: 0.6915 - val_loss: 0.8687 - val_accuracy: 0.6992\n",
      "Epoch 13/30\n",
      "391/391 [==============================] - 78s 199ms/step - loss: 0.8328 - accuracy: 0.7004 - val_loss: 0.8661 - val_accuracy: 0.7032\n",
      "Epoch 14/30\n",
      "391/391 [==============================] - 76s 193ms/step - loss: 0.7980 - accuracy: 0.7099 - val_loss: 0.8788 - val_accuracy: 0.6966\n",
      "Epoch 15/30\n",
      "391/391 [==============================] - 69s 175ms/step - loss: 0.7799 - accuracy: 0.7168 - val_loss: 0.8584 - val_accuracy: 0.6963\n",
      "Epoch 16/30\n",
      "391/391 [==============================] - 72s 184ms/step - loss: 0.7623 - accuracy: 0.7231 - val_loss: 0.8606 - val_accuracy: 0.7086\n",
      "Epoch 17/30\n",
      "391/391 [==============================] - 69s 176ms/step - loss: 0.7464 - accuracy: 0.7271 - val_loss: 0.8607 - val_accuracy: 0.7064\n",
      "Epoch 18/30\n",
      "391/391 [==============================] - 68s 173ms/step - loss: 0.7246 - accuracy: 0.7347 - val_loss: 0.8724 - val_accuracy: 0.7002\n",
      "Epoch 19/30\n",
      "391/391 [==============================] - 69s 176ms/step - loss: 0.7026 - accuracy: 0.7426 - val_loss: 0.8738 - val_accuracy: 0.7011\n",
      "Epoch 20/30\n",
      "391/391 [==============================] - 69s 177ms/step - loss: 0.6856 - accuracy: 0.7487 - val_loss: 0.8982 - val_accuracy: 0.6922\n",
      "Epoch 21/30\n",
      "391/391 [==============================] - 68s 173ms/step - loss: 0.6805 - accuracy: 0.7514 - val_loss: 0.8705 - val_accuracy: 0.7036\n",
      "Epoch 22/30\n",
      "391/391 [==============================] - 68s 173ms/step - loss: 0.6577 - accuracy: 0.7588 - val_loss: 0.8793 - val_accuracy: 0.7045\n",
      "Epoch 23/30\n",
      "391/391 [==============================] - 68s 173ms/step - loss: 0.6465 - accuracy: 0.7610 - val_loss: 0.8734 - val_accuracy: 0.7074\n",
      "Epoch 24/30\n",
      "391/391 [==============================] - 68s 173ms/step - loss: 0.6377 - accuracy: 0.7652 - val_loss: 0.8840 - val_accuracy: 0.7049\n",
      "Epoch 25/30\n",
      "391/391 [==============================] - 68s 173ms/step - loss: 0.6251 - accuracy: 0.7661 - val_loss: 0.8865 - val_accuracy: 0.7067\n",
      "Epoch 26/30\n",
      "391/391 [==============================] - 69s 177ms/step - loss: 0.6113 - accuracy: 0.7726 - val_loss: 0.8883 - val_accuracy: 0.7069\n",
      "Epoch 27/30\n",
      "391/391 [==============================] - 69s 176ms/step - loss: 0.6029 - accuracy: 0.7762 - val_loss: 0.8881 - val_accuracy: 0.7128\n",
      "Epoch 28/30\n",
      "391/391 [==============================] - 71s 181ms/step - loss: 0.5863 - accuracy: 0.7803 - val_loss: 0.8882 - val_accuracy: 0.7108\n",
      "Epoch 29/30\n",
      "391/391 [==============================] - 67s 172ms/step - loss: 0.5740 - accuracy: 0.7872 - val_loss: 0.9022 - val_accuracy: 0.7050\n",
      "Epoch 30/30\n",
      "391/391 [==============================] - 64s 164ms/step - loss: 0.5554 - accuracy: 0.7915 - val_loss: 0.9068 - val_accuracy: 0.7082\n"
     ]
    }
   ],
   "source": [
    "# 모델 학습\n",
    "\n",
    "hist = cnn.fit(x_train, \n",
    "               y_train, \n",
    "               batch_size = 128, \n",
    "               epochs = 30, \n",
    "               validation_data = (x_test, y_test))\n"
   ]
  },
  {
   "cell_type": "code",
   "execution_count": 54,
   "id": "2e72e3fc",
   "metadata": {},
   "outputs": [
    {
     "data": {
      "image/png": "[encoded data removed]",
      "text/plain": [
       "<Figure size 432x288 with 1 Axes>"
      ]
     },
     "metadata": {
      "needs_background": "light"
     },
     "output_type": "display_data"
    }
   ],
   "source": [
    "# 분석 정확도\n",
    "\n",
    "import matplotlib.pyplot as plt\n",
    "\n",
    "plt.plot(hist.history[\"accuracy\"])\n",
    "plt.plot(hist.history['val_accuracy'])\n",
    "plt.title('Accuracy Trend')\n",
    "plt.ylabel(\"accuracy\")\n",
    "plt.xlabel(\"epochs\")\n",
    "plt.legend(['train', 'validation'], loc = \"best\")\n",
    "plt.grid()\n",
    "plt.show()"
   ]
  },
  {
   "cell_type": "code",
   "execution_count": 55,
   "id": "1ef72169",
   "metadata": {},
   "outputs": [
    {
     "data": {
      "image/png": "[encoded data removed]",
      "text/plain": [
       "<Figure size 432x288 with 1 Axes>"
      ]
     },
     "metadata": {
      "needs_background": "light"
     },
     "output_type": "display_data"
    }
   ],
   "source": [
    "# 분석 loss값\n",
    "\n",
    "plt.plot(hist.history[\"loss\"])\n",
    "plt.plot(hist.history['val_loss'])\n",
    "plt.title('Loss Trend')\n",
    "plt.ylabel(\"loss\")\n",
    "plt.xlabel(\"epochs\")\n",
    "plt.legend(['train', 'validation'], loc = \"best\")\n",
    "plt.grid()\n",
    "plt.show()"
   ]
  },
  {
   "cell_type": "code",
   "execution_count": null,
   "id": "627cfb76",
   "metadata": {},
   "outputs": [],
   "source": []
  }
 ],
 "metadata": {
  "kernelspec": {
   "display_name": "Python 3",
   "language": "python",
   "name": "python3"
  },
  "language_info": {
   "codemirror_mode": {
    "name": "ipython",
    "version": 3
   },
   "file_extension": ".py",
   "mimetype": "text/x-python",
   "name": "python",
   "nbconvert_exporter": "python",
   "pygments_lexer": "ipython3",
   "version": "3.8.8"
  }
 },
 "nbformat": 4,
 "nbformat_minor": 5
}
