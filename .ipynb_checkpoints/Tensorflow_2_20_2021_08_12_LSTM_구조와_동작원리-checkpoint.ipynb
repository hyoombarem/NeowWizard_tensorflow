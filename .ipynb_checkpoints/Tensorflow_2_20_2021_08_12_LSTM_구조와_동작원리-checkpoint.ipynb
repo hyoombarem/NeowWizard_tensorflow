{
 "cells": [
  {
   "cell_type": "markdown",
   "id": "f7956d93",
   "metadata": {},
   "source": [
    "### LSTM 구조와 동작 원리"
   ]
  },
  {
   "cell_type": "markdown",
   "id": "03ffa7e2",
   "metadata": {},
   "source": [
    "#### simpleRNN vs LSTM\n",
    "- SimpleRNN 에서는 다음셀로 전달 되는 H_t값 외에 C_t값이 존재한다\n",
    "- C_t의 값은 H_t가 전달되면서 사라지는 장기 기억에 대한 내용을 저장하면서 기억 손실을 방지할 수 있다"
   ]
  },
  {
   "cell_type": "markdown",
   "id": "e9f163c5",
   "metadata": {},
   "source": [
    "#### LSTM 내부 구조\n",
    "- 한 셀에 세개의 과정이 존재\n",
    "- Forget, Input, Output\n",
    "- Forget : 이전 셀에서 받아온 데이터를 얼마나 잊을지 결정 (Sigmoid계산으로 전달 비율 산출)\n",
    "- Input : 이전 셀에서 받아온 H_t-1값을 계산해 C_t-1에 값 업데이트 (Sigmoid와 tanh로 계산)\n",
    "- Output : C_t의 영향을 반영해 H_t값 산춯 "
   ]
  },
  {
   "cell_type": "code",
   "execution_count": null,
   "id": "d312c5a8",
   "metadata": {},
   "outputs": [],
   "source": []
  }
 ],
 "metadata": {
  "kernelspec": {
   "display_name": "Python 3",
   "language": "python",
   "name": "python3"
  },
  "language_info": {
   "codemirror_mode": {
    "name": "ipython",
    "version": 3
   },
   "file_extension": ".py",
   "mimetype": "text/x-python",
   "name": "python",
   "nbconvert_exporter": "python",
   "pygments_lexer": "ipython3",
   "version": "3.8.8"
  }
 },
 "nbformat": 4,
 "nbformat_minor": 5
}
