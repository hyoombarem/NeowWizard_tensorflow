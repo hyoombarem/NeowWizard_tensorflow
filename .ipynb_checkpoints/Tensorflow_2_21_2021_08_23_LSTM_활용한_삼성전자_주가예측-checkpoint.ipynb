{
 "cells": [
  {
   "cell_type": "markdown",
   "id": "13c2e0cc",
   "metadata": {},
   "source": [
    "### LSTM활용 실습 (삼성전자 주가예측)\n",
    "\n",
    "- 삼성전자 데이터 확보 및 전처리"
   ]
  },
  {
   "cell_type": "markdown",
   "id": "86ab1fe6",
   "metadata": {},
   "source": [
    "#### 개발 과정\n",
    "- 데이터 로드 및 분포 확인\n",
    "- 데이터 전처리\n",
    "- 데이터 생성 \n",
    "    * 3차원 텐서로 생성\n",
    "- 순환신경망 모델 구축 및 학습"
   ]
  },
  {
   "cell_type": "code",
   "execution_count": 1,
   "id": "90040fbe",
   "metadata": {},
   "outputs": [],
   "source": [
    "# 코드 구현"
   ]
  },
  {
   "cell_type": "code",
   "execution_count": 2,
   "id": "1bd2834a",
   "metadata": {},
   "outputs": [],
   "source": [
    "# 라이브러리 불러오기\n",
    "\n",
    "import tensorflow as tf\n",
    "import numpy as np\n",
    "import pandas as pd\n",
    "import matplotlib.pyplot as plt\n",
    "from tensorflow.keras.models import Sequential\n",
    "from tensorflow.keras.layers import LSTM, Dense, Dropout"
   ]
  },
  {
   "cell_type": "code",
   "execution_count": 4,
   "id": "c4e6b8b9",
   "metadata": {},
   "outputs": [
    {
     "data": {
      "text/html": [
       "<div>\n",
       "<style scoped>\n",
       "    .dataframe tbody tr th:only-of-type {\n",
       "        vertical-align: middle;\n",
       "    }\n",
       "\n",
       "    .dataframe tbody tr th {\n",
       "        vertical-align: top;\n",
       "    }\n",
       "\n",
       "    .dataframe thead th {\n",
       "        text-align: right;\n",
       "    }\n",
       "</style>\n",
       "<table border=\"1\" class=\"dataframe\">\n",
       "  <thead>\n",
       "    <tr style=\"text-align: right;\">\n",
       "      <th></th>\n",
       "      <th>Date</th>\n",
       "      <th>Open</th>\n",
       "      <th>High</th>\n",
       "      <th>Low</th>\n",
       "      <th>Close</th>\n",
       "      <th>Adj Close</th>\n",
       "      <th>Volume</th>\n",
       "      <th>3MA</th>\n",
       "      <th>5MA</th>\n",
       "    </tr>\n",
       "  </thead>\n",
       "  <tbody>\n",
       "    <tr>\n",
       "      <th>0</th>\n",
       "      <td>2000-01-04</td>\n",
       "      <td>6000.0</td>\n",
       "      <td>6110.0</td>\n",
       "      <td>5660.0</td>\n",
       "      <td>6110.0</td>\n",
       "      <td>4719.226074</td>\n",
       "      <td>74195000.0</td>\n",
       "      <td>NaN</td>\n",
       "      <td>NaN</td>\n",
       "    </tr>\n",
       "    <tr>\n",
       "      <th>1</th>\n",
       "      <td>2000-01-05</td>\n",
       "      <td>5800.0</td>\n",
       "      <td>6060.0</td>\n",
       "      <td>5520.0</td>\n",
       "      <td>5580.0</td>\n",
       "      <td>4309.866211</td>\n",
       "      <td>74680000.0</td>\n",
       "      <td>NaN</td>\n",
       "      <td>NaN</td>\n",
       "    </tr>\n",
       "    <tr>\n",
       "      <th>2</th>\n",
       "      <td>2000-01-06</td>\n",
       "      <td>5750.0</td>\n",
       "      <td>5780.0</td>\n",
       "      <td>5580.0</td>\n",
       "      <td>5620.0</td>\n",
       "      <td>4340.761230</td>\n",
       "      <td>54390000.0</td>\n",
       "      <td>4456.617838</td>\n",
       "      <td>NaN</td>\n",
       "    </tr>\n",
       "    <tr>\n",
       "      <th>3</th>\n",
       "      <td>2000-01-07</td>\n",
       "      <td>5560.0</td>\n",
       "      <td>5670.0</td>\n",
       "      <td>5360.0</td>\n",
       "      <td>5540.0</td>\n",
       "      <td>4278.971680</td>\n",
       "      <td>40305000.0</td>\n",
       "      <td>4309.866374</td>\n",
       "      <td>NaN</td>\n",
       "    </tr>\n",
       "    <tr>\n",
       "      <th>4</th>\n",
       "      <td>2000-01-10</td>\n",
       "      <td>5600.0</td>\n",
       "      <td>5770.0</td>\n",
       "      <td>5580.0</td>\n",
       "      <td>5770.0</td>\n",
       "      <td>4456.618652</td>\n",
       "      <td>46880000.0</td>\n",
       "      <td>4358.783854</td>\n",
       "      <td>4421.088769</td>\n",
       "    </tr>\n",
       "  </tbody>\n",
       "</table>\n",
       "</div>"
      ],
      "text/plain": [
       "         Date    Open    High     Low   Close    Adj Close      Volume  \\\n",
       "0  2000-01-04  6000.0  6110.0  5660.0  6110.0  4719.226074  74195000.0   \n",
       "1  2000-01-05  5800.0  6060.0  5520.0  5580.0  4309.866211  74680000.0   \n",
       "2  2000-01-06  5750.0  5780.0  5580.0  5620.0  4340.761230  54390000.0   \n",
       "3  2000-01-07  5560.0  5670.0  5360.0  5540.0  4278.971680  40305000.0   \n",
       "4  2000-01-10  5600.0  5770.0  5580.0  5770.0  4456.618652  46880000.0   \n",
       "\n",
       "           3MA          5MA  \n",
       "0          NaN          NaN  \n",
       "1          NaN          NaN  \n",
       "2  4456.617838          NaN  \n",
       "3  4309.866374          NaN  \n",
       "4  4358.783854  4421.088769  "
      ]
     },
     "execution_count": 4,
     "metadata": {},
     "output_type": "execute_result"
    }
   ],
   "source": [
    "# 데이터 읽기\n",
    "raw_df = pd.read_csv(\"./005930.KS.csv\")\n",
    "\n",
    "raw_df.head()"
   ]
  },
  {
   "cell_type": "code",
   "execution_count": 5,
   "id": "a75e56bd",
   "metadata": {},
   "outputs": [
    {
     "data": {
      "image/png": "[encoded data removed]",
      "text/plain": [
       "<Figure size 504x288 with 1 Axes>"
      ]
     },
     "metadata": {
      "needs_background": "light"
     },
     "output_type": "display_data"
    }
   ],
   "source": [
    "# 데이터 살펴보기\n",
    "\n",
    "plt.figure(figsize = (7, 4))\n",
    "\n",
    "plt.title(\"SAMSUNG ELECTRONIC STOCK PRICE\")\n",
    "plt.ylabel(\"price (won)\")\n",
    "plt.xlabel(\"period (day)\")\n",
    "plt.grid()\n",
    "\n",
    "plt.plot(raw_df[\"Adj Close\"], label = \"Adj Close\", color = \"blue\")\n",
    "plt.legend(loc = \"best\")\n",
    "\n",
    "plt.show()"
   ]
  },
  {
   "cell_type": "markdown",
   "id": "303bc45e",
   "metadata": {},
   "source": [
    "#### 과정\n",
    "- 20년간의 데이터 학습하고 나머지를 예측\n",
    "- 전처리 과정\n",
    "- 특이값 처리\n",
    "- 거래량(Volume)이 0으로 나타나는 데이터는 결측치로 취급\n",
    "- 주식같은 금융 데이터는 결측치에 대해 중간값 대체를 하지 않고 삭제하는게 일반적임"
   ]
  },
  {
   "cell_type": "code",
   "execution_count": 9,
   "id": "ccd1f220",
   "metadata": {},
   "outputs": [
    {
     "name": "stdout",
     "output_type": "stream",
     "text": [
      "Date: 0\n",
      "Open: 0\n",
      "High: 0\n",
      "Low: 0\n",
      "Close: 0\n",
      "Adj Close: 0\n",
      "Volume: 0\n",
      "3MA: 0\n",
      "5MA: 0\n"
     ]
    }
   ],
   "source": [
    "# 데이터 전처리\n",
    "# volume = 0 인 값들 대체\n",
    "\n",
    "raw_df[\"Volume\"] = raw_df[\"Volume\"].replace(0, np.nan)\n",
    "\n",
    "# 각 column에 0개수 확인\n",
    "\n",
    "for col in raw_df.columns:\n",
    "    missing_rows = raw_df.loc[raw_df[col] == 0].shape[0]\n",
    "    print(col + \": \" + str(missing_rows))\n",
    "   \n"
   ]
  },
  {
   "cell_type": "code",
   "execution_count": 12,
   "id": "0a728d53",
   "metadata": {},
   "outputs": [
    {
     "data": {
      "text/plain": [
       "Date           0\n",
       "Open           6\n",
       "High           6\n",
       "Low            6\n",
       "Close          6\n",
       "Adj Close      6\n",
       "Volume       122\n",
       "3MA            2\n",
       "5MA            4\n",
       "dtype: int64"
      ]
     },
     "execution_count": 12,
     "metadata": {},
     "output_type": "execute_result"
    }
   ],
   "source": [
    "raw_df.isnull().sum()"
   ]
  },
  {
   "cell_type": "code",
   "execution_count": 13,
   "id": "1863da7c",
   "metadata": {},
   "outputs": [],
   "source": [
    "raw_df = raw_df.dropna()"
   ]
  },
  {
   "cell_type": "code",
   "execution_count": 16,
   "id": "910cadb0",
   "metadata": {},
   "outputs": [
    {
     "name": "stdout",
     "output_type": "stream",
     "text": [
      "          Open      High       Low     Close  Adj Close       3MA       5MA  \\\n",
      "0     0.034868  0.032008  0.036288  0.034440   0.026655  0.025192  0.025698   \n",
      "1     0.037375  0.035517  0.038470  0.034440   0.026655  0.025634  0.025094   \n",
      "2     0.034982  0.031689  0.036518  0.033873   0.026217  0.026163  0.025343   \n",
      "3     0.034868  0.031689  0.036059  0.033760   0.026129  0.025987  0.025503   \n",
      "4     0.036235  0.033177  0.037437  0.035120   0.027181  0.026163  0.026018   \n",
      "...        ...       ...       ...       ...        ...       ...       ...   \n",
      "5309  0.814266  0.769247  0.822003  0.809675   0.818388  0.834978  0.858507   \n",
      "5310  0.813127  0.763930  0.811667  0.806276   0.814983  0.823166  0.844021   \n",
      "5311  0.808569  0.761803  0.811667  0.797213   0.805901  0.818212  0.831605   \n",
      "5312  0.808569  0.756487  0.804777  0.792682   0.801360  0.812497  0.821718   \n",
      "5313  0.806290  0.757550  0.810519  0.799479   0.808171  0.810210  0.819189   \n",
      "\n",
      "        Volume  \n",
      "0     0.285359  \n",
      "1     0.363715  \n",
      "2     0.177799  \n",
      "3     0.250704  \n",
      "4     0.300555  \n",
      "...        ...  \n",
      "5309  0.188304  \n",
      "5310  0.177632  \n",
      "5311  0.134838  \n",
      "5312  0.136047  \n",
      "5313  0.117204  \n",
      "\n",
      "[5314 rows x 8 columns]\n"
     ]
    }
   ],
   "source": [
    "# 데이터 정규화\n",
    "\n",
    "from sklearn.preprocessing import MinMaxScaler\n",
    "\n",
    "scaler = MinMaxScaler()\n",
    "\n",
    "scale_cols = [\"Open\", \"High\", \"Low\", \"Close\", \"Adj Close\", \"3MA\", \"5MA\", \"Volume\"]\n",
    "scaled_df = scaler.fit_transform(raw_df[scale_cols])\n",
    "\n",
    "scaled_df = pd.DataFrame(scaled_df, columns = scale_cols)\n",
    "\n",
    "print(scaled_df)"
   ]
  },
  {
   "cell_type": "code",
   "execution_count": 18,
   "id": "6b4a7dd7",
   "metadata": {},
   "outputs": [
    {
     "name": "stdout",
     "output_type": "stream",
     "text": [
      "           3MA       5MA  Adj Close\n",
      "0     0.025192  0.025698   0.026655\n",
      "1     0.025634  0.025094   0.026655\n",
      "2     0.026163  0.025343   0.026217\n",
      "3     0.025987  0.025503   0.026129\n",
      "4     0.026163  0.026018   0.027181\n",
      "...        ...       ...        ...\n",
      "5309  0.834978  0.858507   0.818388\n",
      "5310  0.823166  0.844021   0.814983\n",
      "5311  0.818212  0.831605   0.805901\n",
      "5312  0.812497  0.821718   0.801360\n",
      "5313  0.810210  0.819189   0.808171\n",
      "\n",
      "[5314 rows x 3 columns]\n",
      "      Adj Close\n",
      "0      0.026655\n",
      "1      0.026655\n",
      "2      0.026217\n",
      "3      0.026129\n",
      "4      0.027181\n",
      "...         ...\n",
      "5309   0.818388\n",
      "5310   0.814983\n",
      "5311   0.805901\n",
      "5312   0.801360\n",
      "5313   0.808171\n",
      "\n",
      "[5314 rows x 1 columns]\n"
     ]
    }
   ],
   "source": [
    "# 데이터 분할\n",
    "\n",
    "feature_cols = [\"3MA\", \"5MA\", \"Adj Close\"]\n",
    "label_cols = [\"Adj Close\"]\n",
    "\n",
    "label_df = pd.DataFrame(scaled_df, columns = label_cols)\n",
    "feature_df = pd.DataFrame(scaled_df, columns = feature_cols)\n",
    "\n",
    "print(feature_df)\n",
    "print(label_df)\n",
    "\n",
    "label_np = label_df.to_numpy()\n",
    "feature_np = feature_df.to_numpy()"
   ]
  },
  {
   "cell_type": "code",
   "execution_count": 21,
   "id": "8bab5b5c",
   "metadata": {},
   "outputs": [
    {
     "name": "stdout",
     "output_type": "stream",
     "text": [
      "(5274, 40, 3) (5274, 1)\n"
     ]
    }
   ],
   "source": [
    "# 학습 데이터 X, Y 생성\n",
    "\n",
    "window_size = 40\n",
    "\n",
    "X, Y = make_sequence_dataset(feature_np, label_np, window_size)\n",
    "print(X.shape, Y.shape)"
   ]
  },
  {
   "cell_type": "code",
   "execution_count": 20,
   "id": "5a057f2b",
   "metadata": {},
   "outputs": [],
   "source": [
    "# make_sequence_dataset\n",
    "def make_sequence_dataset(feature, label, window_size):\n",
    "    \n",
    "    feature_list = []\n",
    "    label_list = []\n",
    "    \n",
    "    for i in range(len(feature) - window_size):\n",
    "        feature_list.append(feature[i:i+window_size])\n",
    "        label_list.append(label[i+window_size])\n",
    "        \n",
    "    return np.array(feature_list), np.array(label_list)"
   ]
  },
  {
   "cell_type": "code",
   "execution_count": 24,
   "id": "98044876",
   "metadata": {},
   "outputs": [
    {
     "name": "stdout",
     "output_type": "stream",
     "text": [
      "(5074, 40, 3) (5074, 1)\n",
      "(200, 40, 3) (200, 1)\n"
     ]
    }
   ],
   "source": [
    "# 데이터 분리\n",
    "split = -200\n",
    "\n",
    "x_train = X[0:split]\n",
    "y_train = Y[0:split]\n",
    "\n",
    "x_test = X[split:]\n",
    "y_test = Y[split:]\n",
    "\n",
    "print(x_train.shape, y_train.shape)\n",
    "print(x_test.shape, y_test.shape)\n"
   ]
  },
  {
   "cell_type": "code",
   "execution_count": 26,
   "id": "b6e3cd37",
   "metadata": {},
   "outputs": [
    {
     "name": "stdout",
     "output_type": "stream",
     "text": [
      "Model: \"sequential\"\n",
      "_________________________________________________________________\n",
      "Layer (type)                 Output Shape              Param #   \n",
      "=================================================================\n",
      "lstm (LSTM)                  (None, 128)               67584     \n",
      "_________________________________________________________________\n",
      "dense (Dense)                (None, 1)                 129       \n",
      "=================================================================\n",
      "Total params: 67,713\n",
      "Trainable params: 67,713\n",
      "Non-trainable params: 0\n",
      "_________________________________________________________________\n"
     ]
    }
   ],
   "source": [
    "# LSTM 모델 구축\n",
    "\n",
    "model = Sequential()\n",
    "model.add(LSTM(128, \n",
    "              activation = \"tanh\", \n",
    "              input_shape = x_train[0].shape))\n",
    "\n",
    "model.add(Dense(1, activation = \"linear\"))\n",
    "\n",
    "model.summary()"
   ]
  },
  {
   "cell_type": "code",
   "execution_count": 29,
   "id": "939634f7",
   "metadata": {},
   "outputs": [
    {
     "name": "stdout",
     "output_type": "stream",
     "text": [
      "Epoch 1/100\n",
      "318/318 [==============================] - 5s 11ms/step - loss: 3.4069e-04 - mae: 0.0089 - val_loss: 9.3529e-04 - val_mae: 0.0250\n",
      "Epoch 2/100\n",
      "318/318 [==============================] - 3s 10ms/step - loss: 9.1719e-05 - mae: 0.0063 - val_loss: 9.5862e-04 - val_mae: 0.0234\n",
      "Epoch 3/100\n",
      "318/318 [==============================] - 3s 11ms/step - loss: 7.6273e-05 - mae: 0.0057 - val_loss: 5.8365e-04 - val_mae: 0.0161\n",
      "Epoch 4/100\n",
      "318/318 [==============================] - 3s 11ms/step - loss: 6.8894e-05 - mae: 0.0054 - val_loss: 4.7337e-04 - val_mae: 0.0146\n",
      "Epoch 5/100\n",
      "318/318 [==============================] - 3s 10ms/step - loss: 6.2855e-05 - mae: 0.0052 - val_loss: 3.9327e-04 - val_mae: 0.0138\n",
      "Epoch 6/100\n",
      "318/318 [==============================] - 3s 10ms/step - loss: 6.1819e-05 - mae: 0.0053 - val_loss: 3.7878e-04 - val_mae: 0.0133\n",
      "Epoch 7/100\n",
      "318/318 [==============================] - 3s 11ms/step - loss: 5.1186e-05 - mae: 0.0048 - val_loss: 4.7919e-04 - val_mae: 0.0161\n",
      "Epoch 8/100\n",
      "318/318 [==============================] - 3s 10ms/step - loss: 5.2157e-05 - mae: 0.0048 - val_loss: 3.3626e-04 - val_mae: 0.0128\n",
      "Epoch 9/100\n",
      "318/318 [==============================] - 3s 10ms/step - loss: 4.3020e-05 - mae: 0.0044 - val_loss: 4.5173e-04 - val_mae: 0.0160\n",
      "Epoch 10/100\n",
      "318/318 [==============================] - 3s 10ms/step - loss: 4.3115e-05 - mae: 0.0044 - val_loss: 2.6758e-04 - val_mae: 0.0114\n",
      "Epoch 11/100\n",
      "318/318 [==============================] - 3s 10ms/step - loss: 4.5628e-05 - mae: 0.0045 - val_loss: 5.1489e-04 - val_mae: 0.0181\n",
      "Epoch 12/100\n",
      "318/318 [==============================] - 4s 11ms/step - loss: 3.8092e-05 - mae: 0.0042 - val_loss: 2.4335e-04 - val_mae: 0.0121\n",
      "Epoch 13/100\n",
      "318/318 [==============================] - 4s 11ms/step - loss: 3.4810e-05 - mae: 0.0040 - val_loss: 2.2914e-04 - val_mae: 0.0116\n",
      "Epoch 14/100\n",
      "318/318 [==============================] - 3s 10ms/step - loss: 3.2169e-05 - mae: 0.0038 - val_loss: 2.8505e-04 - val_mae: 0.0123\n",
      "Epoch 15/100\n",
      "318/318 [==============================] - 3s 11ms/step - loss: 3.3007e-05 - mae: 0.0039 - val_loss: 3.0110e-04 - val_mae: 0.0144\n",
      "Epoch 16/100\n",
      "318/318 [==============================] - 3s 10ms/step - loss: 2.9380e-05 - mae: 0.0036 - val_loss: 2.2502e-04 - val_mae: 0.0106\n",
      "Epoch 17/100\n",
      "318/318 [==============================] - 3s 10ms/step - loss: 3.1610e-05 - mae: 0.0038 - val_loss: 2.1630e-04 - val_mae: 0.0104\n",
      "Epoch 18/100\n",
      "318/318 [==============================] - 3s 10ms/step - loss: 2.7383e-05 - mae: 0.0035 - val_loss: 2.4482e-04 - val_mae: 0.0113\n",
      "Epoch 19/100\n",
      "318/318 [==============================] - 3s 10ms/step - loss: 2.9307e-05 - mae: 0.0037 - val_loss: 2.6579e-04 - val_mae: 0.0119\n",
      "Epoch 20/100\n",
      "318/318 [==============================] - 3s 10ms/step - loss: 3.2703e-05 - mae: 0.0038 - val_loss: 1.9142e-04 - val_mae: 0.0099\n",
      "Epoch 21/100\n",
      "318/318 [==============================] - 3s 10ms/step - loss: 2.9486e-05 - mae: 0.0037 - val_loss: 3.9421e-04 - val_mae: 0.0158\n",
      "Epoch 22/100\n",
      "318/318 [==============================] - 3s 10ms/step - loss: 2.7282e-05 - mae: 0.0035 - val_loss: 5.3971e-04 - val_mae: 0.0196\n",
      "Epoch 23/100\n",
      "318/318 [==============================] - 3s 10ms/step - loss: 2.7803e-05 - mae: 0.0036 - val_loss: 2.5514e-04 - val_mae: 0.0117\n",
      "Epoch 24/100\n",
      "318/318 [==============================] - 3s 10ms/step - loss: 2.5947e-05 - mae: 0.0034 - val_loss: 4.4204e-04 - val_mae: 0.0171\n",
      "Epoch 25/100\n",
      "318/318 [==============================] - 3s 10ms/step - loss: 2.7127e-05 - mae: 0.0035 - val_loss: 3.1853e-04 - val_mae: 0.0137\n"
     ]
    },
    {
     "data": {
      "text/plain": [
       "<tensorflow.python.keras.callbacks.History at 0x1d91acc4dc0>"
      ]
     },
     "execution_count": 29,
     "metadata": {},
     "output_type": "execute_result"
    }
   ],
   "source": [
    "# 모델 컴파일 및 학습\n",
    "\n",
    "from tensorflow.keras.callbacks import EarlyStopping\n",
    "\n",
    "model.compile(loss = \"mse\", optimizer = \"adam\", metrics = [\"mae\"])\n",
    "early_stop = EarlyStopping(monitor = \"val_loss\", patience = 5)\n",
    "\n",
    "model.fit(x_train, y_train, validation_data = (x_test, y_test), epochs = 100, batch_size = 16, callbacks = [early_stop])\n"
   ]
  },
  {
   "cell_type": "code",
   "execution_count": 30,
   "id": "5892850a",
   "metadata": {},
   "outputs": [
    {
     "data": {
      "image/png": "[encoded data removed]",
      "text/plain": [
       "<Figure size 864x432 with 1 Axes>"
      ]
     },
     "metadata": {
      "needs_background": "light"
     },
     "output_type": "display_data"
    }
   ],
   "source": [
    "# 주가 에측\n",
    "\n",
    "pred = model.predict(x_test)\n",
    "\n",
    "plt.figure(figsize = (12, 6))\n",
    "plt.title(\"3MA + 5MA + Adj Close, window_size = 40\")\n",
    "plt.ylabel(\"adj close\")\n",
    "plt.xlabel(\"period\")\n",
    "plt.plot(y_test, label = \"actual\")\n",
    "plt.plot(pred, label = \"prediction\")\n",
    "plt.grid()\n",
    "plt.legend(loc = \"best\")\n",
    "\n",
    "plt.show()"
   ]
  },
  {
   "cell_type": "code",
   "execution_count": null,
   "id": "feee9974",
   "metadata": {},
   "outputs": [],
   "source": []
  }
 ],
 "metadata": {
  "kernelspec": {
   "display_name": "Python 3",
   "language": "python",
   "name": "python3"
  },
  "language_info": {
   "codemirror_mode": {
    "name": "ipython",
    "version": 3
   },
   "file_extension": ".py",
   "mimetype": "text/x-python",
   "name": "python",
   "nbconvert_exporter": "python",
   "pygments_lexer": "ipython3",
   "version": "3.8.8"
  }
 },
 "nbformat": 4,
 "nbformat_minor": 5
}
