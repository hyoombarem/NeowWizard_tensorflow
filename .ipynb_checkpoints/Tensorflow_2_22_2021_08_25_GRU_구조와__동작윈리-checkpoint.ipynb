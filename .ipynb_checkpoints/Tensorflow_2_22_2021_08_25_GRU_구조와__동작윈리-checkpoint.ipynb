{
 "cells": [
  {
   "cell_type": "markdown",
   "id": "e63095fb",
   "metadata": {},
   "source": [
    "### GRU 구조와 동작원리"
   ]
  },
  {
   "cell_type": "markdown",
   "id": "5b0cba87",
   "metadata": {},
   "source": [
    "#### GRU 구조\n",
    "- LSTM 은 cell state가 있다\n",
    "- GRU는 H가 그 역할을 한다\n",
    "- reset gate, update gate가 존재한다\n",
    "- sigmoid 두번 tanh 한번만 사용한다 - 연산량이 적다"
   ]
  },
  {
   "cell_type": "markdown",
   "id": "1b7f0076",
   "metadata": {},
   "source": [
    "- Reset Gate - 정보를 얼마나 남길까?\n",
    "- Update Gate - 과거와 현재 정보를 어떤 비율로 남길까?\n",
    "- Candodate - 현재의 데이터를 어떻게 전달할까?\n",
    "- Output - 얼마나 잊고, 얼마나 가져가서 데이터를 다음으로 전달할까?"
   ]
  }
 ],
 "metadata": {
  "kernelspec": {
   "display_name": "Python 3",
   "language": "python",
   "name": "python3"
  },
  "language_info": {
   "codemirror_mode": {
    "name": "ipython",
    "version": 3
   },
   "file_extension": ".py",
   "mimetype": "text/x-python",
   "name": "python",
   "nbconvert_exporter": "python",
   "pygments_lexer": "ipython3",
   "version": "3.8.8"
  }
 },
 "nbformat": 4,
 "nbformat_minor": 5
}
