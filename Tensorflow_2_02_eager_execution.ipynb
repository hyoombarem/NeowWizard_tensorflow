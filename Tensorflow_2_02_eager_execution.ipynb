{
 "cells": [
  {
   "cell_type": "code",
   "execution_count": 1,
   "id": "175a7aee",
   "metadata": {},
   "outputs": [],
   "source": [
    "# Tensorflow 2.0 에 대해서 \n",
    "\n",
    "# Eager execution\n",
    "# 2.0 버젼에서 새롭게 추가된 기술이고 이전 처럼 Session과 Tensor를 실행할 필요 없이 알아서 흘러갈 수 있다\n"
   ]
  },
  {
   "cell_type": "code",
   "execution_count": 2,
   "id": "e1014f87",
   "metadata": {},
   "outputs": [
    {
     "data": {
      "text/plain": [
       "'2.5.0'"
      ]
     },
     "execution_count": 2,
     "metadata": {},
     "output_type": "execute_result"
    }
   ],
   "source": [
    "import tensorflow as tf\n",
    "\n",
    "tf.__version__"
   ]
  },
  {
   "cell_type": "code",
   "execution_count": 3,
   "id": "ecfa063b",
   "metadata": {},
   "outputs": [],
   "source": [
    "a = tf.constant(1.0)\n",
    "b = tf.constant(2.0)"
   ]
  },
  {
   "cell_type": "code",
   "execution_count": 5,
   "id": "a4ad69c5",
   "metadata": {},
   "outputs": [
    {
     "name": "stdout",
     "output_type": "stream",
     "text": [
      "3.0\n"
     ]
    }
   ],
   "source": [
    "# 2.0에서는 해당 값을 바로바로 확인 가능하다\n",
    "\n",
    "c = a + b\n",
    "print(c.numpy())"
   ]
  },
  {
   "cell_type": "code",
   "execution_count": 7,
   "id": "b8d05276",
   "metadata": {},
   "outputs": [
    {
     "name": "stdout",
     "output_type": "stream",
     "text": [
      "initial W =  [-0.698485]\n",
      "===================================\n",
      "step =  0 . W =  [0.30151498]\n",
      "step =  1 . W =  [1.301515]\n"
     ]
    }
   ],
   "source": [
    "# 2.0에서는 tf.global_variables_initializer()의 과정이 필요가 없다\n",
    "\n",
    "W = tf.Variable(tf.random.normal([1]))\n",
    "print(\"initial W = \", W.numpy())\n",
    "print(\"===================================\")\n",
    "\n",
    "for step in range(2):\n",
    "    W = W + 1.0\n",
    "    print(\"step = \", step, \". W = \", W.numpy())"
   ]
  },
  {
   "cell_type": "code",
   "execution_count": null,
   "id": "df071c30",
   "metadata": {},
   "outputs": [],
   "source": [
    "# Placeholder 도 사라졌다\n"
   ]
  },
  {
   "cell_type": "code",
   "execution_count": 9,
   "id": "45fb73ea",
   "metadata": {},
   "outputs": [
    {
     "name": "stdout",
     "output_type": "stream",
     "text": [
      "<class 'tensorflow.python.framework.ops.EagerTensor'>\n",
      "3.0\n"
     ]
    }
   ],
   "source": [
    "a = tf.constant(1.0)\n",
    "b = tf.constant(2.0)\n",
    "\n",
    "def tensor_sum(x, y):\n",
    "    return x + y\n",
    "\n",
    "result = tensor_sum(a, b)\n",
    "\n",
    "print(type(result))\n",
    "print(result.numpy())"
   ]
  },
  {
   "cell_type": "code",
   "execution_count": null,
   "id": "cf02230a",
   "metadata": {},
   "outputs": [],
   "source": []
  },
  {
   "cell_type": "code",
   "execution_count": null,
   "id": "fd4ce7ad",
   "metadata": {},
   "outputs": [],
   "source": []
  }
 ],
 "metadata": {
  "kernelspec": {
   "display_name": "Python 3",
   "language": "python",
   "name": "python3"
  },
  "language_info": {
   "codemirror_mode": {
    "name": "ipython",
    "version": 3
   },
   "file_extension": ".py",
   "mimetype": "text/x-python",
   "name": "python",
   "nbconvert_exporter": "python",
   "pygments_lexer": "ipython3",
   "version": "3.8.8"
  }
 },
 "nbformat": 4,
 "nbformat_minor": 5
}
