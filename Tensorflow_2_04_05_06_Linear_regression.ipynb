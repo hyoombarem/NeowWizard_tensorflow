{
 "cells": [
  {
   "cell_type": "markdown",
   "id": "98307a44",
   "metadata": {},
   "source": [
    "### 4장 선형 회귀 - 개념과 손실함수"
   ]
  },
  {
   "cell_type": "markdown",
   "id": "9309b937",
   "metadata": {},
   "source": [
    "회귀 (Regression)\n",
    "\n",
    "- 트레이닝 데이터를 이용하여 상관관계등을 파악하고, 있지 않은 데이터에 대한 결과값을 예측 하는데 쓰인다\n",
    "- MSE 를 손실함수로 사용하고 있다"
   ]
  },
  {
   "cell_type": "code",
   "execution_count": 2,
   "id": "81bc9912",
   "metadata": {},
   "outputs": [],
   "source": [
    "x_data = [9, 14, 21, 27, 43, 47]\n",
    "y_data = [74, 81, 86, 90, 88, 93]\n"
   ]
  },
  {
   "cell_type": "markdown",
   "id": "d12760df",
   "metadata": {},
   "source": [
    "### 5장 선형회귀 - 경사하강법"
   ]
  },
  {
   "cell_type": "markdown",
   "id": "c0f2ed3e",
   "metadata": {},
   "source": [
    "경사하강법 (Gradient Descent)\n",
    "- loss 값을 최소로 하는 W값을 찾기 위해, 현재 W값에서 loss값을 낮게 하는 방향으로 W값을 조정한다"
   ]
  },
  {
   "cell_type": "code",
   "execution_count": null,
   "id": "a9ec40e3",
   "metadata": {},
   "outputs": [],
   "source": []
  }
 ],
 "metadata": {
  "kernelspec": {
   "display_name": "Python 3",
   "language": "python",
   "name": "python3"
  },
  "language_info": {
   "codemirror_mode": {
    "name": "ipython",
    "version": 3
   },
   "file_extension": ".py",
   "mimetype": "text/x-python",
   "name": "python",
   "nbconvert_exporter": "python",
   "pygments_lexer": "ipython3",
   "version": "3.8.8"
  }
 },
 "nbformat": 4,
 "nbformat_minor": 5
}
