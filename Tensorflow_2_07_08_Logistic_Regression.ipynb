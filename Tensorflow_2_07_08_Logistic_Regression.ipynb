{
 "cells": [
  {
   "cell_type": "markdown",
   "id": "e79bee81",
   "metadata": {},
   "source": [
    "### 로지스틱 회귀"
   ]
  },
  {
   "cell_type": "markdown",
   "id": "b45fb2f5",
   "metadata": {},
   "source": [
    "분류 (Classification)\n",
    "- 여려 변수를 입력받고 종합하여 0, 1 로 분류해내는 회귀분석\n",
    "- Sigmoid 함수를 이용하여 결과를 0과 1 사이의 값으로 나타내어 확률처럼 사용한다\n",
    "- 최종으로 Cross Entropy를 적용하여 "
   ]
  },
  {
   "cell_type": "code",
   "execution_count": null,
   "id": "b0616c76",
   "metadata": {},
   "outputs": [],
   "source": []
  }
 ],
 "metadata": {
  "kernelspec": {
   "display_name": "Python 3",
   "language": "python",
   "name": "python3"
  },
  "language_info": {
   "codemirror_mode": {
    "name": "ipython",
    "version": 3
   },
   "file_extension": ".py",
   "mimetype": "text/x-python",
   "name": "python",
   "nbconvert_exporter": "python",
   "pygments_lexer": "ipython3",
   "version": "3.8.8"
  }
 },
 "nbformat": 4,
 "nbformat_minor": 5
}
