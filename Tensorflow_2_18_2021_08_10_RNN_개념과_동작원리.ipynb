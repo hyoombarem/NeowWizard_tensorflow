{
 "cells": [
  {
   "cell_type": "markdown",
   "id": "e725d6b2",
   "metadata": {},
   "source": [
    "### RNN 개념과 동작 원리\n",
    "\n",
    "- 일반 신경망과 차이\n",
    " * 일반 신경망은 활성화 함수 이후로 바로 출력으로 토스(relu)\n",
    " * RNN은 순환구조가 존재(tanh)\n"
   ]
  },
  {
   "cell_type": "markdown",
   "id": "a956a2fe",
   "metadata": {},
   "source": [
    "##### RNN의 특징\n",
    "- 순서가 있는 데이터\n",
    "- 은닉층에서 과거의 정보를 전달하는 인자를 가지고 있다\n",
    "- 해당 인자도 업데이트 해가면서 값을 인계 및 사용"
   ]
  }
 ],
 "metadata": {
  "kernelspec": {
   "display_name": "Python 3",
   "language": "python",
   "name": "python3"
  },
  "language_info": {
   "codemirror_mode": {
    "name": "ipython",
    "version": 3
   },
   "file_extension": ".py",
   "mimetype": "text/x-python",
   "name": "python",
   "nbconvert_exporter": "python",
   "pygments_lexer": "ipython3",
   "version": "3.8.8"
  }
 },
 "nbformat": 4,
 "nbformat_minor": 5
}
