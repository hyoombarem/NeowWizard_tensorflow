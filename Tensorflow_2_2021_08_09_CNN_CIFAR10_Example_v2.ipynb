{
 "cells": [
  {
   "cell_type": "markdown",
   "id": "68c12fb3",
   "metadata": {},
   "source": [
    "### CNN Cifar10 두번째 예시\n",
    "\n",
    "- 기존 예시에서 70% 정확도밖에 보여주지 못했기에 데이터 증폭과 깊어진 레이어로 더 정확성을 높혀보자"
   ]
  },
  {
   "cell_type": "code",
   "execution_count": 1,
   "id": "36b74a63",
   "metadata": {},
   "outputs": [],
   "source": [
    "import numpy as np\n",
    "import tensorflow as tf\n",
    "from tensorflow.keras.datasets import cifar10\n",
    "from tensorflow.keras.models import Sequential\n",
    "from tensorflow.keras.layers import Conv2D, MaxPooling2D, Flatten, Dense, Dropout\n",
    "from tensorflow.keras.optimizers import Adam\n",
    "from tensorflow.keras.preprocessing.image import ImageDataGenerator\n"
   ]
  },
  {
   "cell_type": "code",
   "execution_count": 3,
   "id": "44764127",
   "metadata": {},
   "outputs": [
    {
     "name": "stdout",
     "output_type": "stream",
     "text": [
      "(50000, 32, 32, 3) (10000, 32, 32, 3)\n",
      "(50000, 1) (10000, 1)\n"
     ]
    }
   ],
   "source": [
    "# 데이터 불러오기\n",
    "\n",
    "(x_train, y_train), (x_test, y_test) = cifar10.load_data()\n",
    "\n",
    "x_train = x_train.astype(np.float32) / 255.0\n",
    "x_test = x_test.astype(np.float32) / 255.0\n",
    "\n",
    "print(x_train.shape, x_test.shape)\n",
    "print(y_train.shape, y_test.shape)\n",
    "\n"
   ]
  },
  {
   "cell_type": "code",
   "execution_count": 5,
   "id": "2c406d5b",
   "metadata": {},
   "outputs": [],
   "source": [
    "# 데이터 증폭\n",
    "\n",
    "gen = ImageDataGenerator(rotation_range = 20,\n",
    "                        shear_range = 0.2, \n",
    "                        width_shift_range = 0.2, \n",
    "                        height_shift_range = 0.2,\n",
    "                        horizontal_flip = True)\n",
    "\n",
    "augment_ratio = 1.5 # 전체 데이터의 150%\n",
    "augment_size = int(augment_ratio * x_train.shape[0])\n",
    "\n",
    "randidx = np.random.randint(x_train.shape[0], size = augment_size)\n",
    "\n",
    "x_augmented = x_train[randidx].copy()\n",
    "y_augmented = y_train[randidx].copy()\n",
    "\n",
    "x_augmented, y_augmented = gen.flow(x_augmented, y_augmented, batch_size = augment_size, shuffle = False).next()\n",
    "\n",
    "\n",
    "x_train = np.concatenate((x_train, x_augmented))\n",
    "y_train = np.concatenate((y_train, y_augmented))\n",
    "\n",
    "\n",
    "# 데이터 섞기 (원본 + 새로 생성)\n",
    "s = np.arange(x_train.shape[0])\n",
    "np.random.shuffle(s)\n",
    "\n",
    "x_train = x_train[s]\n",
    "y_train = y_train[s]\n"
   ]
  },
  {
   "cell_type": "code",
   "execution_count": 6,
   "id": "09b92e28",
   "metadata": {},
   "outputs": [],
   "source": [
    "# 모델 생성\n",
    "\n",
    "cnn = Sequential()\n",
    "\n",
    "cnn.add(Conv2D(32, (3, 3), activation = \"relu\", padding = \"same\", input_shape = (32, 32, 3)))\n",
    "cnn.add(Conv2D(32, (3, 3), activation = \"relu\", padding = \"same\"))\n",
    "cnn.add(MaxPooling2D(pool_size = (2, 2)))\n",
    "cnn.add(Dropout(0.25))\n",
    "\n",
    "\n",
    "cnn.add(Conv2D(64, (3, 3), activation = \"relu\", padding = \"same\"))\n",
    "cnn.add(Conv2D(64, (3, 3), activation = \"relu\", padding = \"same\"))\n",
    "cnn.add(MaxPooling2D(pool_size = (2, 2)))\n",
    "cnn.add(Dropout(0.25))\n",
    "\n",
    "cnn.add(Conv2D(128, (3, 3), activation = \"relu\", padding = \"same\"))\n",
    "cnn.add(MaxPooling2D(pool_size = (2, 2)))\n",
    "cnn.add(Dropout(0.25))\n",
    "\n",
    "cnn.add(Conv2D(128, (3, 3), activation = \"relu\", padding = \"same\"))\n",
    "cnn.add(MaxPooling2D(pool_size = (2, 2)))\n",
    "cnn.add(Dropout(0.25))\n",
    "cnn.add(Conv2D(256, (3, 3), activation = \"relu\", padding = \"same\"))\n",
    "cnn.add(MaxPooling2D(pool_size = (2, 2)))\n",
    "cnn.add(Dropout(0.25))\n",
    "\n",
    "cnn.add(Flatten())\n",
    "\n",
    "cnn.add(Dense(128, activation = \"relu\"))\n",
    "cnn.add(Dropout(0.5))\n",
    "cnn.add(Dense(10, activation = \"softmax\"))\n"
   ]
  },
  {
   "cell_type": "code",
   "execution_count": null,
   "id": "1f23ee7b",
   "metadata": {},
   "outputs": [
    {
     "name": "stdout",
     "output_type": "stream",
     "text": [
      "Epoch 1/200\n",
      "1221/1221 [==============================] - 691s 566ms/step - loss: 1.5836 - accuracy: 0.4191 - val_loss: 1.0778 - val_accuracy: 0.6021\n",
      "Epoch 2/200\n",
      " 163/1221 [===>..........................] - ETA: 9:54 - loss: 1.2816 - accuracy: 0.5411"
     ]
    }
   ],
   "source": [
    "# 컴파일\n",
    "\n",
    "cnn.compile(loss = \"sparse_categorical_crossentropy\", optimizer = Adam(), metrics = [\"accuracy\"])\n",
    "\n",
    "hist = cnn.fit(x_train, y_train, batch_size = 256, epochs =200, validation_data = (x_test, y_test))\n",
    "\n",
    "# 실행이 너무 오래 걸려서 실행 보류"
   ]
  },
  {
   "cell_type": "code",
   "execution_count": null,
   "id": "81aa59f5",
   "metadata": {},
   "outputs": [],
   "source": [
    "# 모델 평가\n",
    "\n",
    "\n",
    "import matplotlib.pyplot as plt\n",
    "\n",
    "plt.plot(hist.history[\"accuracy\"])\n",
    "plt.plot(hist.history['val_accuracy'])\n",
    "plt.title('Accuracy Trend')\n",
    "plt.ylabel(\"accuracy\")\n",
    "plt.xlabel(\"epochs\")\n",
    "plt.legend(['train', 'validation'], loc = \"best\")\n",
    "plt.grid()\n",
    "plt.show()"
   ]
  },
  {
   "cell_type": "code",
   "execution_count": null,
   "id": "9612b261",
   "metadata": {},
   "outputs": [],
   "source": [
    "##\n",
    "\n",
    "plt.plot(hist.history[\"loss\"])\n",
    "plt.plot(hist.history['val_loss'])\n",
    "plt.title('Loss Trend')\n",
    "plt.ylabel(\"loss\")\n",
    "plt.xlabel(\"epochs\")\n",
    "plt.legend(['train', 'validation'], loc = \"best\")\n",
    "plt.grid()\n",
    "plt.show()"
   ]
  }
 ],
 "metadata": {
  "kernelspec": {
   "display_name": "Python 3",
   "language": "python",
   "name": "python3"
  },
  "language_info": {
   "codemirror_mode": {
    "name": "ipython",
    "version": 3
   },
   "file_extension": ".py",
   "mimetype": "text/x-python",
   "name": "python",
   "nbconvert_exporter": "python",
   "pygments_lexer": "ipython3",
   "version": "3.8.8"
  }
 },
 "nbformat": 4,
 "nbformat_minor": 5
}
