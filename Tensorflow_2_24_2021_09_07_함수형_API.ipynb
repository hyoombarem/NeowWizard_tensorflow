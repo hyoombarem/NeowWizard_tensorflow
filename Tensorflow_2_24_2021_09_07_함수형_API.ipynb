{
 "cells": [
  {
   "cell_type": "markdown",
   "id": "62fe4458",
   "metadata": {},
   "source": [
    "### 함수형 API\n",
    "- Sequential API 모델은 함수나 모델을 합치는 과정이 어렵다\n",
    "- Functional API는 그런 단점을 보완한 사항이다"
   ]
  },
  {
   "cell_type": "code",
   "execution_count": 4,
   "id": "c80b3d15",
   "metadata": {},
   "outputs": [
    {
     "name": "stdout",
     "output_type": "stream",
     "text": [
      "Model: \"model\"\n",
      "_________________________________________________________________\n",
      "Layer (type)                 Output Shape              Param #   \n",
      "=================================================================\n",
      "input_2 (InputLayer)         [(None, 4)]               0         \n",
      "_________________________________________________________________\n",
      "dense_4 (Dense)              (None, 8)                 40        \n",
      "_________________________________________________________________\n",
      "dense_5 (Dense)              (None, 16)                144       \n",
      "_________________________________________________________________\n",
      "dense_6 (Dense)              (None, 32)                544       \n",
      "_________________________________________________________________\n",
      "dense_7 (Dense)              (None, 10)                330       \n",
      "=================================================================\n",
      "Total params: 1,058\n",
      "Trainable params: 1,058\n",
      "Non-trainable params: 0\n",
      "_________________________________________________________________\n"
     ]
    }
   ],
   "source": [
    "# Functional API 방법\n",
    "\n",
    "import tensorflow as tf\n",
    "\n",
    "from tensorflow.keras.layers import Input, Dense\n",
    "from tensorflow.keras.models import Model\n",
    "\n",
    "input_ = Input(shape = (4, ))\n",
    "\n",
    "x = Dense(8, activation = \"relu\")(input_)\n",
    "x = Dense(16, activation = \"relu\")(x)\n",
    "x = Dense(32, activation = \"relu\")(x)\n",
    "\n",
    "output_ = Dense(10, activation = 'softmax')(x)\n",
    "\n",
    "model = Model(inputs = input_, outputs = output_)\n",
    "\n",
    "model.summary()"
   ]
  },
  {
   "cell_type": "code",
   "execution_count": 11,
   "id": "538e8cbc",
   "metadata": {
    "scrolled": true
   },
   "outputs": [
    {
     "name": "stdout",
     "output_type": "stream",
     "text": [
      "Model: \"model_5\"\n",
      "__________________________________________________________________________________________________\n",
      "Layer (type)                    Output Shape         Param #     Connected to                     \n",
      "==================================================================================================\n",
      "input_7 (InputLayer)            [(None, 4)]          0                                            \n",
      "__________________________________________________________________________________________________\n",
      "dense_19 (Dense)                (None, 8)            40          input_7[0][0]                    \n",
      "__________________________________________________________________________________________________\n",
      "input_8 (InputLayer)            [(None, 8)]          0                                            \n",
      "__________________________________________________________________________________________________\n",
      "dense_20 (Dense)                (None, 16)           144         dense_19[0][0]                   \n",
      "__________________________________________________________________________________________________\n",
      "dense_21 (Dense)                (None, 16)           144         input_8[0][0]                    \n",
      "__________________________________________________________________________________________________\n",
      "concatenate (Concatenate)       (None, 32)           0           dense_20[0][0]                   \n",
      "                                                                 dense_21[0][0]                   \n",
      "__________________________________________________________________________________________________\n",
      "dense_22 (Dense)                (None, 10)           330         concatenate[0][0]                \n",
      "==================================================================================================\n",
      "Total params: 658\n",
      "Trainable params: 658\n",
      "Non-trainable params: 0\n",
      "__________________________________________________________________________________________________\n"
     ]
    }
   ],
   "source": [
    "from tensorflow.keras.layers import Input, Dense, concatenate\n",
    "from tensorflow.keras.models import Model\n",
    "\n",
    "# 입력층 1에 대한 신경망\n",
    "input_1 = Input(shape = (4, ))\n",
    "\n",
    "hidden_1 = Dense(8, activation = \"relu\")(input_1)\n",
    "hidden_2 = Dense(16, activation = \"relu\")(hidden_1)\n",
    "\n",
    "output_1 = Model(inputs = input_1, outputs = hidden_2)\n",
    "\n",
    "# 입력층 2에 대한 신경망\n",
    "input_2 = Input(shape = (8, ))\n",
    "\n",
    "hidden_3 = Dense(16, activation = \"relu\")(input_2)\n",
    "\n",
    "output_2 = Model(inputs = input_2, outputs = hidden_3)\n",
    "\n",
    "# 층 연결\n",
    "result = concatenate([output_1.output, output_2.output])\n",
    "\n",
    "# 출력층 정의\n",
    "output_ = Dense(10, activation = 'softmax')(result)\n",
    "\n",
    "# 최종 모델 구축\n",
    "model = Model(inputs = [output_1.input, output_2.input], outputs = output_)\n",
    "\n",
    "model.summary()"
   ]
  },
  {
   "cell_type": "code",
   "execution_count": 12,
   "id": "b151c59c",
   "metadata": {},
   "outputs": [],
   "source": [
    "# 데이터 불러와서 모델 구축 CNN\n",
    "\n",
    "import tensorflow as tf\n",
    "from tensorflow.keras.datasets import mnist\n",
    "from tensorflow.keras.layers import Input, Conv2D, MaxPool2D, Flatten, Dense, Dropout\n",
    "from tensorflow.keras.models import Model\n",
    "\n",
    "(x_train, y_train), (x_test, y_test) = mnist.load_data()\n",
    "\n",
    "x_train = x_train.reshape(-1, 28, 28, 1)\n",
    "x_test = x_test.reshape(-1, 28, 28, 1)\n",
    "\n",
    "x_train = x_train/255.0\n",
    "x_test = x_test/255.0\n"
   ]
  },
  {
   "cell_type": "code",
   "execution_count": 13,
   "id": "f68402d0",
   "metadata": {},
   "outputs": [],
   "source": [
    "input_ = Input(shape = (28, 28, 1))\n",
    "\n",
    "x = Conv2D(32, 3, activation = 'relu')(input_)\n",
    "x = Conv2D(64, 3, activation = 'relu')(x)\n",
    "x = MaxPool2D(pool_size = (2, 2))(x) \n",
    "x = Dropout(0.25)(x)\n",
    "\n",
    "x = Flatten()(x)\n",
    "\n",
    "x = Dense(128, activation = 'relu')(x)\n",
    "x = Dropout(0.5)(x)\n",
    "\n",
    "output_ = Dense(10, activation = 'softmax')(x)\n",
    "\n",
    "cnn = Model(inputs = input_, outputs = output_)"
   ]
  },
  {
   "cell_type": "code",
   "execution_count": 6,
   "id": "1c0c8d49",
   "metadata": {},
   "outputs": [
    {
     "name": "stdout",
     "output_type": "stream",
     "text": [
      "Model: \"sequential_1\"\n",
      "_________________________________________________________________\n",
      "Layer (type)                 Output Shape              Param #   \n",
      "=================================================================\n",
      "dense_8 (Dense)              (None, 8)                 40        \n",
      "_________________________________________________________________\n",
      "dense_9 (Dense)              (None, 16)                144       \n",
      "_________________________________________________________________\n",
      "dense_10 (Dense)             (None, 32)                544       \n",
      "_________________________________________________________________\n",
      "dense_11 (Dense)             (None, 10)                330       \n",
      "=================================================================\n",
      "Total params: 1,058\n",
      "Trainable params: 1,058\n",
      "Non-trainable params: 0\n",
      "_________________________________________________________________\n"
     ]
    }
   ],
   "source": [
    "# 기존 Sequential API 모델\n",
    "\n",
    "import tensorflow as tf\n",
    "\n",
    "from tensorflow.keras.models import Sequential\n",
    "from tensorflow.keras.layers import Dense\n",
    "\n",
    "model = Sequential()\n",
    "model.add(Dense(8, activation = 'relu', input_shape = (4, )))\n",
    "model.add(Dense(16, activation = 'relu'))\n",
    "model.add(Dense(32, activation = 'relu'))\n",
    "\n",
    "model.add(Dense(10, activation = 'softmax'))\n",
    "\n",
    "model.summary()"
   ]
  },
  {
   "cell_type": "code",
   "execution_count": 14,
   "id": "4d341c11",
   "metadata": {},
   "outputs": [
    {
     "name": "stdout",
     "output_type": "stream",
     "text": [
      "Epoch 1/30\n",
      "469/469 [==============================] - 62s 131ms/step - loss: 0.2247 - accuracy: 0.9316 - val_loss: 0.0551 - val_accuracy: 0.9819\n",
      "Epoch 2/30\n",
      "469/469 [==============================] - 60s 128ms/step - loss: 0.0808 - accuracy: 0.9757 - val_loss: 0.0394 - val_accuracy: 0.9875\n",
      "Epoch 3/30\n",
      "469/469 [==============================] - 60s 128ms/step - loss: 0.0601 - accuracy: 0.9817 - val_loss: 0.0319 - val_accuracy: 0.9895\n",
      "Epoch 4/30\n",
      "469/469 [==============================] - 62s 133ms/step - loss: 0.0479 - accuracy: 0.9848 - val_loss: 0.0309 - val_accuracy: 0.9897\n",
      "Epoch 5/30\n",
      "469/469 [==============================] - 62s 133ms/step - loss: 0.0438 - accuracy: 0.9864 - val_loss: 0.0341 - val_accuracy: 0.9887\n",
      "Epoch 6/30\n",
      "469/469 [==============================] - 61s 131ms/step - loss: 0.0358 - accuracy: 0.9888 - val_loss: 0.0250 - val_accuracy: 0.9918\n",
      "Epoch 7/30\n",
      "469/469 [==============================] - 62s 133ms/step - loss: 0.0325 - accuracy: 0.9895 - val_loss: 0.0243 - val_accuracy: 0.9924\n",
      "Epoch 8/30\n",
      "469/469 [==============================] - 59s 126ms/step - loss: 0.0290 - accuracy: 0.9904 - val_loss: 0.0264 - val_accuracy: 0.9921\n",
      "Epoch 9/30\n",
      "469/469 [==============================] - 64s 137ms/step - loss: 0.0257 - accuracy: 0.9916 - val_loss: 0.0266 - val_accuracy: 0.9924\n",
      "Epoch 10/30\n",
      "469/469 [==============================] - 63s 135ms/step - loss: 0.0238 - accuracy: 0.9923 - val_loss: 0.0248 - val_accuracy: 0.9925\n",
      "Epoch 11/30\n",
      "469/469 [==============================] - 61s 131ms/step - loss: 0.0228 - accuracy: 0.9927 - val_loss: 0.0285 - val_accuracy: 0.9924\n",
      "Epoch 12/30\n",
      "469/469 [==============================] - 62s 131ms/step - loss: 0.0199 - accuracy: 0.9935 - val_loss: 0.0293 - val_accuracy: 0.9920\n",
      "Epoch 13/30\n",
      "469/469 [==============================] - 63s 133ms/step - loss: 0.0194 - accuracy: 0.9937 - val_loss: 0.0324 - val_accuracy: 0.9909\n",
      "Epoch 14/30\n",
      "469/469 [==============================] - 62s 131ms/step - loss: 0.0171 - accuracy: 0.9941 - val_loss: 0.0252 - val_accuracy: 0.9920\n",
      "Epoch 15/30\n",
      "469/469 [==============================] - 62s 133ms/step - loss: 0.0168 - accuracy: 0.9945 - val_loss: 0.0254 - val_accuracy: 0.9927\n",
      "Epoch 16/30\n",
      "469/469 [==============================] - 61s 131ms/step - loss: 0.0156 - accuracy: 0.9948 - val_loss: 0.0310 - val_accuracy: 0.9910\n",
      "Epoch 17/30\n",
      "469/469 [==============================] - 64s 136ms/step - loss: 0.0147 - accuracy: 0.9948 - val_loss: 0.0275 - val_accuracy: 0.9935\n",
      "Epoch 18/30\n",
      "469/469 [==============================] - 63s 135ms/step - loss: 0.0142 - accuracy: 0.9951 - val_loss: 0.0275 - val_accuracy: 0.9931\n",
      "Epoch 19/30\n",
      "469/469 [==============================] - 60s 129ms/step - loss: 0.0152 - accuracy: 0.9948 - val_loss: 0.0296 - val_accuracy: 0.9927\n",
      "Epoch 20/30\n",
      "469/469 [==============================] - 64s 137ms/step - loss: 0.0134 - accuracy: 0.9956 - val_loss: 0.0310 - val_accuracy: 0.9931\n",
      "Epoch 21/30\n",
      "469/469 [==============================] - 63s 135ms/step - loss: 0.0126 - accuracy: 0.9957 - val_loss: 0.0300 - val_accuracy: 0.9932\n",
      "Epoch 22/30\n",
      "469/469 [==============================] - 61s 131ms/step - loss: 0.0124 - accuracy: 0.9959 - val_loss: 0.0316 - val_accuracy: 0.9922\n",
      "Epoch 23/30\n",
      "469/469 [==============================] - 61s 131ms/step - loss: 0.0111 - accuracy: 0.9962 - val_loss: 0.0356 - val_accuracy: 0.9915\n",
      "Epoch 24/30\n",
      "469/469 [==============================] - 63s 135ms/step - loss: 0.0114 - accuracy: 0.9960 - val_loss: 0.0301 - val_accuracy: 0.9931\n",
      "Epoch 25/30\n",
      "469/469 [==============================] - 59s 127ms/step - loss: 0.0094 - accuracy: 0.9965 - val_loss: 0.0302 - val_accuracy: 0.9937\n",
      "Epoch 26/30\n",
      "469/469 [==============================] - 61s 129ms/step - loss: 0.0098 - accuracy: 0.9968 - val_loss: 0.0307 - val_accuracy: 0.9933\n",
      "Epoch 27/30\n",
      "469/469 [==============================] - 61s 129ms/step - loss: 0.0109 - accuracy: 0.9965 - val_loss: 0.0343 - val_accuracy: 0.9929\n",
      "Epoch 28/30\n",
      "469/469 [==============================] - 63s 135ms/step - loss: 0.0099 - accuracy: 0.9968 - val_loss: 0.0330 - val_accuracy: 0.9919\n",
      "Epoch 29/30\n",
      "469/469 [==============================] - 61s 130ms/step - loss: 0.0087 - accuracy: 0.9969 - val_loss: 0.0328 - val_accuracy: 0.9928\n",
      "Epoch 30/30\n",
      "469/469 [==============================] - 63s 133ms/step - loss: 0.0101 - accuracy: 0.9966 - val_loss: 0.0301 - val_accuracy: 0.9936\n"
     ]
    }
   ],
   "source": [
    "# 모델 컴파일 및 학습\n",
    "\n",
    "cnn.compile(loss = 'sparse_categorical_crossentropy', optimizer = tf.keras.optimizers.Adam(), metrics = ['accuracy'])\n",
    "\n",
    "hist = cnn.fit(x_train, y_train, batch_size = 128, epochs = 30, validation_data = (x_test, y_test))\n"
   ]
  },
  {
   "cell_type": "code",
   "execution_count": 15,
   "id": "ab5a340f",
   "metadata": {},
   "outputs": [
    {
     "name": "stdout",
     "output_type": "stream",
     "text": [
      "313/313 [==============================] - 2s 6ms/step - loss: 0.0301 - accuracy: 0.9936\n"
     ]
    },
    {
     "data": {
      "text/plain": [
       "[0.03012721613049507, 0.9936000108718872]"
      ]
     },
     "execution_count": 15,
     "metadata": {},
     "output_type": "execute_result"
    }
   ],
   "source": [
    "cnn.evaluate(x_test, y_test)"
   ]
  },
  {
   "cell_type": "code",
   "execution_count": 16,
   "id": "8b9a9a05",
   "metadata": {},
   "outputs": [
    {
     "data": {
      "image/png": "[encoded data removed]",
      "text/plain": [
       "<Figure size 432x288 with 1 Axes>"
      ]
     },
     "metadata": {
      "needs_background": "light"
     },
     "output_type": "display_data"
    }
   ],
   "source": [
    "# 정확도 그래프\n",
    "import matplotlib.pyplot as plt\n",
    "\n",
    "plt.plot(hist.history['accuracy'])\n",
    "plt.plot(hist.history['val_accuracy'])\n",
    "plt.title('Accuracy Trend')\n",
    "plt.ylabel('accuracy')\n",
    "plt.xlabel('epochs')\n",
    "plt.legend(['train', 'validation'], loc = 'best')\n",
    "plt.grid()\n",
    "plt.show()"
   ]
  },
  {
   "cell_type": "code",
   "execution_count": 17,
   "id": "1794b850",
   "metadata": {},
   "outputs": [
    {
     "data": {
      "image/png": "[encoded data removed]",
      "text/plain": [
       "<Figure size 432x288 with 1 Axes>"
      ]
     },
     "metadata": {
      "needs_background": "light"
     },
     "output_type": "display_data"
    }
   ],
   "source": [
    "# 손실 그래프\n",
    "\n",
    "plt.plot(hist.history['loss'])\n",
    "plt.plot(hist.history['val_loss'])\n",
    "plt.title('Loss Trend')\n",
    "plt.ylabel('loss')\n",
    "plt.xlabel('epochs')\n",
    "plt.legend(['train', 'validation'], loc = 'best')\n",
    "plt.grid()\n",
    "plt.show()\n",
    "\n"
   ]
  },
  {
   "cell_type": "code",
   "execution_count": null,
   "id": "1c233850",
   "metadata": {},
   "outputs": [],
   "source": []
  }
 ],
 "metadata": {
  "kernelspec": {
   "display_name": "Python 3",
   "language": "python",
   "name": "python3"
  },
  "language_info": {
   "codemirror_mode": {
    "name": "ipython",
    "version": 3
   },
   "file_extension": ".py",
   "mimetype": "text/x-python",
   "name": "python",
   "nbconvert_exporter": "python",
   "pygments_lexer": "ipython3",
   "version": "3.8.8"
  }
 },
 "nbformat": 4,
 "nbformat_minor": 5
}
