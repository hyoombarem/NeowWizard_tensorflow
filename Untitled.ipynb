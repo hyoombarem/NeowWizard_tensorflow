{
 "cells": [
  {
   "cell_type": "markdown",
   "id": "19901d6a",
   "metadata": {},
   "source": [
    "### 전이학습\n",
    "\n",
    "- Transfer Learning 개념 및 필요성\n",
    "    * 학습 데이터의 부족\n",
    "    \n",
    "- 기존 데이터로 학습한 모델\n",
    "- 전이학습\n",
    "- 새롭게 생성되는 모델"
   ]
  },
  {
   "cell_type": "markdown",
   "id": "a149a3ad",
   "metadata": {},
   "source": [
    "- pre-train model\n",
    "- 사전학습된 특징 추출기\n",
    "    * 특징 추출기는 컨볼루션 층과 풀링 층의 조합으로 구성되어 있으며 이미 학습되어 있다\n",
    "- 사전학습된 분류기\n",
    "    * 분류기는 완전연결층으로 구성되며 추출된 특징을 입력 받아 최종적으로 주어진 이미지에 대한 클래스를 카테고리 형태로 분류하는 역할 수행"
   ]
  },
  {
   "cell_type": "markdown",
   "id": "387ef48a",
   "metadata": {},
   "source": [
    "#### Pre-trained model\n",
    "\n",
    "- 이미 만들어진 다양한 모델이 있다\n",
    "- Xception, VGG16, VGG19 등"
   ]
  },
  {
   "cell_type": "code",
   "execution_count": null,
   "id": "da1ac66f",
   "metadata": {},
   "outputs": [],
   "source": []
  }
 ],
 "metadata": {
  "kernelspec": {
   "display_name": "Python 3",
   "language": "python",
   "name": "python3"
  },
  "language_info": {
   "codemirror_mode": {
    "name": "ipython",
    "version": 3
   },
   "file_extension": ".py",
   "mimetype": "text/x-python",
   "name": "python",
   "nbconvert_exporter": "python",
   "pygments_lexer": "ipython3",
   "version": "3.8.8"
  }
 },
 "nbformat": 4,
 "nbformat_minor": 5
}
